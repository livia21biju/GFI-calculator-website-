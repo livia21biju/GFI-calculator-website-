{
 "cells": [
  {
   "cell_type": "code",
   "execution_count": 1,
   "id": "71242388",
   "metadata": {},
   "outputs": [],
   "source": [
    "from flask import Flask, render_template, request\n",
    "\n",
    "app = Flask(__name__)\n",
    "\n",
    "@app.route('/')\n",
    "def index():\n",
    "    return render_template('table_calc.html')\n",
    "\n",
    "@app.route('/add', methods=['POST'])\n",
    "def add_numbers():\n",
    "    numbers = request.form.getlist('number')\n",
    "    numbers = [float(n) for n in numbers if n.strip() != '']\n",
    "    result = sum(numbers)\n",
    "    return render_template('table_calc.html', result=result)\n"
   ]
  }
 ],
 "metadata": {
  "kernelspec": {
   "display_name": ".venv",
   "language": "python",
   "name": "python3"
  },
  "language_info": {
   "codemirror_mode": {
    "name": "ipython",
    "version": 3
   },
   "file_extension": ".py",
   "mimetype": "text/x-python",
   "name": "python",
   "nbconvert_exporter": "python",
   "pygments_lexer": "ipython3",
   "version": "3.11.9"
  }
 },
 "nbformat": 4,
 "nbformat_minor": 5
}
